{
 "cells": [
  {
   "cell_type": "markdown",
   "metadata": {},
   "source": [
    "# Dados dos professores da UDESC\n",
    "\n",
    "Descobrindo quais serão os possíveis professores que serão os meus professores"
   ]
  },
  {
   "cell_type": "code",
   "execution_count": 1,
   "metadata": {},
   "outputs": [],
   "source": [
    "# Biblioteca utilizadas\n",
    "from bs4 import BeautifulSoup\n",
    "import requests\n",
    "from time import sleep\n",
    "from tqdm import tqdm"
   ]
  },
  {
   "cell_type": "code",
   "execution_count": 2,
   "metadata": {},
   "outputs": [],
   "source": [
    "# Obtendo dados do site da UDESC na página sobre os professores\n",
    "url = requests.get(\"https://www.udesc.br/professores\").text\n",
    "\n",
    "soup = BeautifulSoup(url, 'html5lib')"
   ]
  },
  {
   "cell_type": "code",
   "execution_count": 3,
   "metadata": {},
   "outputs": [],
   "source": [
    "def num_maximo_professores():\n",
    "    \"\"\"Descobre o número máximo de professores\"\"\"\n",
    "    \n",
    "    return len([span for span in soup('span', {'id': 'nome'})])"
   ]
  },
  {
   "cell_type": "code",
   "execution_count": 4,
   "metadata": {},
   "outputs": [],
   "source": [
    "def unidades_de_ensino():\n",
    "    \"\"\"Descobre quais são as unidade de ensino existentes\"\"\"\n",
    "    \n",
    "    unidades_de_ensino = set(div.text \n",
    "                             for div in soup('div', {'id': 'txtUnidadeDeEnsino'}))\n",
    "    \n",
    "    return [unidade.replace('Unidade de ensino:\\xa0\\xa0', '').strip() for unidade in unidades_de_ensino]"
   ]
  },
  {
   "cell_type": "code",
   "execution_count": 5,
   "metadata": {},
   "outputs": [],
   "source": [
    "def escrevendo_unidades_ensino():\n",
    "    with open('unidades_de_ensino.csv', 'wt+') as f:\n",
    "        for n, unidade in enumerate(unidades_de_ensino()):\n",
    "            if n != len(unidades_de_ensino()) -1:\n",
    "                f.write('{}\\n'.format(unidade))\n",
    "            else:\n",
    "                f.write('{}'.format(unidade))\n",
    "            "
   ]
  },
  {
   "cell_type": "code",
   "execution_count": 6,
   "metadata": {},
   "outputs": [],
   "source": [
    "def filtro_por_unidade_de_ensino(nome, url_lista_professores, unidade_de_ensino, filtro):\n",
    "    \"\"\"Filtra os professores por unidade de ensino\"\"\"\n",
    "    \n",
    "    filtro_nome = []\n",
    "    filtro_url = []\n",
    "    filtro_unidade = []\n",
    "    \n",
    "    for n, unidade in enumerate(unidade_de_ensino):\n",
    "        if unidade == filtro:\n",
    "            filtro_nome.append(nome[n])\n",
    "            filtro_url.append(url_lista_professores[n])\n",
    "            filtro_unidade.append(unidade_de_ensino[n])\n",
    "    return filtro_nome, filtro_url, filtro_unidade    "
   ]
  },
  {
   "cell_type": "code",
   "execution_count": 7,
   "metadata": {},
   "outputs": [],
   "source": [
    "def get_dados_professores_lista(num_dados=5, filtro=None):\n",
    "    \"\"\"\n",
    "    Coleta os dados principais encontrados na página da lista\n",
    "    de professores\n",
    "    \"\"\"\n",
    "    \n",
    "    # Caso queira pesquisar todos os professores\n",
    "    # Cololoque no campo 'num_dados' recebendo 'ALL'\n",
    "    if num_dados == \"ALL\":\n",
    "        num_dados = num_maximo_professores()\n",
    "        \n",
    "    # Recomendasse fortemente filtrar os dados por unidade de ensino\n",
    "    # caso queira pesquisar todos os professores \n",
    "    \n",
    "    udesc_url = \"https://www.udesc.br\"\n",
    "    \n",
    "    span_nome_lista_professores = [span.a.text \n",
    "                                   for span in soup('span', {'id': 'nome'})]\n",
    "\n",
    "    span_url_lista_professores = [udesc_url + span.a.get('href') \n",
    "                                  for span in soup('span', {'id': 'nome'})]\n",
    "\n",
    "    div_unidade_de_ensino_lista_professor = [div.text \n",
    "                                             for div in soup('div', {'id': 'txtUnidadeDeEnsino'})]\n",
    "    \n",
    "    div_unidade_de_ensino_lista_professor = [unidade.replace('Unidade de ensino:\\xa0\\xa0', '').strip() \n",
    "                                             for unidade in div_unidade_de_ensino_lista_professor]\n",
    "    \n",
    "    # Filtro\n",
    "    if filtro != None:\n",
    "        nome, url_site, unidade_ensino = filtro_por_unidade_de_ensino(span_nome_lista_professores,\n",
    "                                                                     span_url_lista_professores,\n",
    "                                                                     div_unidade_de_ensino_lista_professor,\n",
    "                                                                     filtro=filtro)\n",
    "       \n",
    "        print('Com filtro')\n",
    "        \n",
    "        # Caso queira pesquisar todos os professores de uma unidade\n",
    "       \n",
    "        \n",
    "        dados_professores = {'NOME' : nome[:num_dados],\n",
    "                  'URL SITE' : url_site[:num_dados],\n",
    "                  'UNIDADE DE ENSINO' : unidade_ensino[:num_dados],\n",
    "                    'DEPARTAMENTO': None,\n",
    "                    'TITULAÇÃO': None}\n",
    "        \n",
    "    else:\n",
    "        print('Sem filtro')\n",
    "        dados_professores = {'NOME' : span_nome_lista_professores[:num_dados],\n",
    "                      'URL SITE' : span_url_lista_professores[:num_dados],\n",
    "                      'UNIDADE DE ENSINO' : div_unidade_de_ensino_lista_professor[:num_dados],\n",
    "                        'DEPARTAMENTO': None,\n",
    "                        'TITULAÇÃO': None}\n",
    "    \n",
    "    return dados_professores"
   ]
  },
  {
   "cell_type": "code",
   "execution_count": 8,
   "metadata": {},
   "outputs": [],
   "source": [
    "def pesquisando_professores(url_professores, time_spleep=5):\n",
    "    \n",
    "    lista_departamento = []\n",
    "    lista_titulacao = []\n",
    "     \n",
    "    for url in tqdm(url_professores):\n",
    "        \n",
    "        url_professor = requests.get(url).text\n",
    "        soup_professor = BeautifulSoup(url_professor, 'html5lib')\n",
    "        \n",
    "        div_professor = [div.text \n",
    "                         for div in soup_professor('div', {'class': 'campo_dado'})]\n",
    "        \n",
    "        departamento = str(div_professor[0]).split()[3:]\n",
    "        departamento = \" \".join(departamento)\n",
    "        \n",
    "        titulacao = str(div_professor[1]).split()[1:]\n",
    "        titulacao = \" \".join(titulacao)\n",
    "        \n",
    "        lista_departamento.append(departamento)\n",
    "        lista_titulacao.append(titulacao)\n",
    "        \n",
    "        sleep(time_spleep) \n",
    "\n",
    "        \n",
    "    return lista_departamento, lista_titulacao      "
   ]
  },
  {
   "cell_type": "code",
   "execution_count": 9,
   "metadata": {},
   "outputs": [],
   "source": [
    "def criando_arquivo(dados_professores, nome_arquivo='dados_professores.csv'):\n",
    "    with open(\"dados_brutos/\" + nome_arquivo, 'wt+') as f:\n",
    "        # Chave \n",
    "        for key in dados_professores.keys():\n",
    "            if key != \"TITULAÇÃO\":\n",
    "                f.write(\"{};\".format(key))\n",
    "            else:\n",
    "                f.write(\"{}\\n\".format(key))\n",
    "        \n",
    "        # Valor\n",
    "        for n, _ in enumerate(dados_professores['NOME']):\n",
    "            f.write(\"{};{};{};{};{}\\n\".format(\n",
    "            dados_professores['NOME'][n],\n",
    "            dados_professores['URL SITE'][n],\n",
    "            dados_professores['UNIDADE DE ENSINO'][n],\n",
    "            dados_professores['DEPARTAMENTO'][n],\n",
    "            dados_professores['TITULAÇÃO'][n])) "
   ]
  },
  {
   "cell_type": "code",
   "execution_count": 10,
   "metadata": {},
   "outputs": [],
   "source": [
    "def get_professores(num_dados=5, filtro=None, time_sleep=5, nome_arquivo='dados_professores.csv'):\n",
    "    \"\"\"\n",
    "    Coleta os dados principais encontrados na página pessoal de cada\n",
    "    professor\n",
    "    \"\"\"\n",
    "    \n",
    "    professores = get_dados_professores_lista(num_dados, filtro)\n",
    "    \n",
    "    # Se quiser pegar todos os professores de um determinado filtro\n",
    "    if num_dados == \"ALL\":\n",
    "        num_dados = len(professores['NOME'])\n",
    "        print(num_dados)\n",
    "    \n",
    "    departamento, titulacao = pesquisando_professores(professores['URL SITE'], time_sleep)\n",
    "    \n",
    "    professores['DEPARTAMENTO'], professores['TITULAÇÃO'] = departamento[:num_dados], titulacao[:num_dados]\n",
    "    \n",
    "    # Escrevendo os dados \n",
    "    criando_arquivo(professores, nome_arquivo)"
   ]
  },
  {
   "cell_type": "code",
   "execution_count": null,
   "metadata": {},
   "outputs": [],
   "source": []
  },
  {
   "cell_type": "code",
   "execution_count": null,
   "metadata": {},
   "outputs": [],
   "source": []
  }
 ],
 "metadata": {
  "kernelspec": {
   "display_name": "Python 3",
   "language": "python",
   "name": "python3"
  },
  "language_info": {
   "codemirror_mode": {
    "name": "ipython",
    "version": 3
   },
   "file_extension": ".py",
   "mimetype": "text/x-python",
   "name": "python",
   "nbconvert_exporter": "python",
   "pygments_lexer": "ipython3",
   "version": "3.8.8"
  }
 },
 "nbformat": 4,
 "nbformat_minor": 4
}
